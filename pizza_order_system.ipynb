{
  "nbformat": 4,
  "nbformat_minor": 0,
  "metadata": {
    "colab": {
      "provenance": []
    },
    "kernelspec": {
      "name": "python3",
      "display_name": "Python 3"
    },
    "language_info": {
      "name": "python"
    }
  },
  "cells": [
    {
      "cell_type": "code",
      "execution_count": 79,
      "metadata": {
        "id": "vSL5Io57x8SB"
      },
      "outputs": [],
      "source": [
        "import csv\n",
        "import datetime"
      ]
    },
    {
      "cell_type": "code",
      "source": [
        "class Pizza:\n",
        "  def __init__(self):\n",
        "    self.__cost = 0\n",
        "    self.__description = \"pizza\"\n",
        "\n",
        "  def get_cost(self):\n",
        "    return self.__cost\n",
        "  \n",
        "  def get_description(self):\n",
        "    return self.__description\n",
        "\n",
        "  def set_cost(self, cost):\n",
        "    self.__cost = cost\n",
        "\n",
        "  def set_description(self, description):\n",
        "    self.__description = description"
      ],
      "metadata": {
        "id": "UYgrUHt40N2g"
      },
      "execution_count": 80,
      "outputs": []
    },
    {
      "cell_type": "code",
      "source": [
        "class Klasik(Pizza):\n",
        "  def __init__(self):\n",
        "    super().__init__()\n",
        "    self.set_cost(80)\n",
        "    self.set_description(\"Klasik Pizza\")\n",
        "    \n",
        "class Margarita(Pizza):\n",
        "  def __init__(self):\n",
        "    super().__init__()\n",
        "    self.set_cost(90)\n",
        "    self.set_description(\"Margarita Pizza\")\n",
        "\n",
        "class TurkishPizza(Pizza):\n",
        "  def __init__(self):\n",
        "    super().__init__()\n",
        "    self.set_cost(100)\n",
        "    self.set_description(\"Turkish Pizza\")\n",
        "\n",
        "class DominosPizza(Pizza):\n",
        "  def __init__(self):\n",
        "    super().__init__()\n",
        "    self.set_cost(95)\n",
        "    self.set_description(\"Dominos Pizza\")\n"
      ],
      "metadata": {
        "id": "dOMmioMPtEZF"
      },
      "execution_count": 81,
      "outputs": []
    },
    {
      "cell_type": "code",
      "source": [
        "class Decorator(Pizza):\n",
        "  def __init__(self):\n",
        "    super().__init__()\n",
        "    "
      ],
      "metadata": {
        "id": "X9e4FljgyvFv"
      },
      "execution_count": 82,
      "outputs": []
    },
    {
      "cell_type": "code",
      "source": [
        "class Zeytin(Decorator):\n",
        "  def __init__(self):\n",
        "    super().__init__()\n",
        "    self.set_cost(4)\n",
        "    self.set_description(\"Zeytin\")\n",
        "    \n",
        "class Mantar(Decorator):\n",
        "  def __init__(self):\n",
        "    super().__init__()\n",
        "    self.set_cost(3)\n",
        "    self.set_description(\"Mantar\")\n",
        "\n",
        "class KeciPeyniri(Decorator):\n",
        "  def __init__(self):\n",
        "    super().__init__()\n",
        "    self.set_cost(20)\n",
        "    self.set_description(\"Keci Peyniri\")\n",
        "\n",
        "class Et(Decorator):\n",
        "  def __init__(self):\n",
        "    super().__init__()\n",
        "    self.set_cost(25)\n",
        "    self.set_description(\"Et\")\n",
        "\n",
        "class Sogan(Decorator):\n",
        "  def __init__(self):\n",
        "    super().__init__()\n",
        "    self.set_cost(5)\n",
        "    self.set_description(\"Sogan\")\n",
        "\n",
        "class Misir(Decorator):\n",
        "  def __init__(self):\n",
        "    super().__init__()\n",
        "    self.set_cost(5)\n",
        "    self.set_description(\"Misir\")"
      ],
      "metadata": {
        "id": "9_5ptWde2b6H"
      },
      "execution_count": 83,
      "outputs": []
    },
    {
      "cell_type": "code",
      "source": [
        "class Components:\n",
        "  def __init__(self):\n",
        "    self.__components = []\n",
        "\n",
        "  def add_component(self, decorator):\n",
        "    self.__components.append(decorator)\n",
        "  \n",
        "  def get_components(self):\n",
        "    return self.__components\n",
        "  \n",
        "  def get_costs(self):\n",
        "    cost = 0\n",
        "    for component in self.__components:\n",
        "      cost += component.get_cost()\n",
        "    return cost\n",
        "  \n",
        "  def get_descriptions(self):\n",
        "    description = \", \"\n",
        "    for component in self.__components:\n",
        "      description += component.get_description() + \" \"\n",
        "    return description"
      ],
      "metadata": {
        "id": "CnpDLele4ySf"
      },
      "execution_count": 94,
      "outputs": []
    },
    {
      "cell_type": "code",
      "source": [
        "class Order:\n",
        "  def __init__(self, pizza, components):\n",
        "    self.pizza = pizza\n",
        "    self.components = components\n",
        "  \n",
        "  def get_total_cost(self):\n",
        "    return self.pizza.get_cost() + self.components.get_costs()\n",
        "  \n",
        "  def get_total_description(self):\n",
        "    return self.pizza.get_description() + self.components.get_descriptions()"
      ],
      "metadata": {
        "id": "p4C6TaaX66lu"
      },
      "execution_count": 85,
      "outputs": []
    },
    {
      "cell_type": "code",
      "source": [
        "def write_menu():\n",
        "  with open('Menu.txt', 'w') as file:\n",
        "    file.write(\"* Lütfen Bir Pizza Tabanı Seçiniz:\\n1: Klasik\\n2: Margarita\\n3: TürkPizza\\n4: Dominos Pizza\\n* ve seçeceğiniz sos:\\n11: Zeytin\\n12: Mantarlar\\n13: Keçi Peyniri\\n14: Et\\n15: Soğan\\n16: Mısır\\n* Teşekkür ederiz!\")\n",
        "\n",
        "def create_menu():\n",
        "  with open('Menu.txt', 'r') as file:\n",
        "    text = file.read()\n",
        "    result_pizza = \"\"\n",
        "    result_sos = \"\"\n",
        "    result = \"\"\n",
        "    count_star = 0\n",
        "    for c in text:\n",
        "      if c == \"*\":\n",
        "        count_star += 1\n",
        "      if count_star == 1:\n",
        "        result_pizza += c\n",
        "      if count_star == 2:\n",
        "        result_sos += c\n",
        "      if count_star == 3:\n",
        "        result += c\n",
        "  return result_pizza, result_sos, result\n"
      ],
      "metadata": {
        "id": "vUSKYEaAyfYd"
      },
      "execution_count": 86,
      "outputs": []
    },
    {
      "cell_type": "code",
      "source": [
        "def get_order(menu):\n",
        "  return input(menu)"
      ],
      "metadata": {
        "id": "47_BosRI_J6l"
      },
      "execution_count": 87,
      "outputs": []
    },
    {
      "cell_type": "code",
      "source": [
        "def get_input(result_pizza, result_sos):\n",
        "  pizza_id = int(get_order(result_pizza))\n",
        "  if pizza_id > 4 or pizza_id < 1:\n",
        "    raise Exception(\"Bu numaralı herhangi bir pizza yoktur!\")\n",
        "  sos_ids = get_order(result_sos).split(' ')\n",
        "  sos_ids = list(map(int, sos_ids))\n",
        "  for i in sos_ids:\n",
        "    if i > 16 or i < 11:\n",
        "      raise Exception(\"Bu numaralı herhangi bir sos yoktur!\")\n",
        "  return pizza_id, sos_ids\n",
        "\n",
        "\n",
        "def get_consumer_info():\n",
        "  name = input(\"İsminiz: \")\n",
        "  identity = input(\"TC Kimlik Numaranız: \")\n",
        "  credit_card_id = input(\"Kredi Kartı Numaranız: \")\n",
        "  credit_card_password = input(\"Kredi Kartı Şifreniz: \")\n",
        "  return name, identity, credit_card_id, credit_card_password\n"
      ],
      "metadata": {
        "id": "UQDG7RAlJEno"
      },
      "execution_count": 88,
      "outputs": []
    },
    {
      "cell_type": "code",
      "source": [
        "pizza_dict = {\n",
        "    1: Klasik(),\n",
        "    2: Margarita(),\n",
        "    3: TurkishPizza(),\n",
        "    4: DominosPizza()\n",
        "}\n",
        "sos_dict = {\n",
        "    11: Zeytin(),\n",
        "    12: Mantar(),\n",
        "    13: KeciPeyniri(),\n",
        "    14: Et(),\n",
        "    15: Sogan(),\n",
        "    16: Misir()\n",
        "}\n"
      ],
      "metadata": {
        "id": "wjIxzgddRJNm"
      },
      "execution_count": 89,
      "outputs": []
    },
    {
      "cell_type": "code",
      "source": [
        "def define_order(pizza_id, sos_ids):\n",
        "  pizza = pizza_dict.get(pizza_id)\n",
        "  components = Components()\n",
        "  for sos in sos_ids:\n",
        "    components.add_component(sos_dict.get(sos))\n",
        "  return Order(pizza,components)"
      ],
      "metadata": {
        "id": "17YTaCpCQo_K"
      },
      "execution_count": 90,
      "outputs": []
    },
    {
      "cell_type": "code",
      "source": [
        "def write_database(name, identity, credit_card_id, credit_card_password, total_cost, description):\n",
        "  order_time = datetime.datetime.now()\n",
        "  try:\n",
        "    file_db = open('Orders_Database.csv', 'r')\n",
        "    data = file_db.read()\n",
        "    file_db.close()\n",
        "  except:\n",
        "    data = \"Kullanici Adi;TC No;Kredi Karti No;Kredi Karti Sifre;Siparis Aciklamasi;Toplam Tutar;Siparis Zamani\\n\"\n",
        "  file_db = open('Orders_Database.csv', 'w')\n",
        "  data += f\"{name};{identity};{credit_card_id};{credit_card_password};{description};{total_cost};{order_time}\\n\"\n",
        "  file_db.write(data)\n",
        "  file_db.close()\n",
        "       "
      ],
      "metadata": {
        "id": "kSohNDCpLJ07"
      },
      "execution_count": 91,
      "outputs": []
    },
    {
      "cell_type": "code",
      "source": [
        "def main():\n",
        "  write_menu()\n",
        "  result_pizza, result_sos, result = create_menu()\n",
        "  pizza_id, sos_ids = get_input(result_pizza, result_sos)\n",
        "  order = define_order(pizza_id, sos_ids)\n",
        "  print(\"\\nTotal Cost: \", order.get_total_cost())\n",
        "  name, identity, credit_card_id, credit_card_password = get_consumer_info()\n",
        "  write_database(name, identity, credit_card_id, credit_card_password, order.get_total_cost(), order.get_total_description())\n",
        "  print(result)\n"
      ],
      "metadata": {
        "id": "IuAnmI7u95R3"
      },
      "execution_count": 92,
      "outputs": []
    },
    {
      "cell_type": "code",
      "source": [
        "if __name__ == \"__main__\":\n",
        "  main()  \n"
      ],
      "metadata": {
        "colab": {
          "base_uri": "https://localhost:8080/"
        },
        "id": "c438t-PG802v",
        "outputId": "ad7c7950-7d70-4ea3-89e7-2ec574819d57"
      },
      "execution_count": 95,
      "outputs": [
        {
          "output_type": "stream",
          "name": "stdout",
          "text": [
            "* Lütfen Bir Pizza Tabanı Seçiniz:\n",
            "1: Klasik\n",
            "2: Margarita\n",
            "3: TürkPizza\n",
            "4: Dominos Pizza\n",
            "1\n",
            "* ve seçeceğiniz sos:\n",
            "11: Zeytin\n",
            "12: Mantarlar\n",
            "13: Keçi Peyniri\n",
            "14: Et\n",
            "15: Soğan\n",
            "16: Mısır\n",
            "11 13 15\n",
            "\n",
            "Total Cost:  109\n",
            "İsminiz: talha bacak\n",
            "TC Kimlik Numaranız: 123091241\n",
            "Kredi Kartı Numaranız: 128412049\n",
            "Kredi Kartı Şifreniz: 410289124\n",
            "* Teşekkür ederiz!\n"
          ]
        }
      ]
    }
  ]
}